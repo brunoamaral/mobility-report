{
 "cells": [
  {
   "cell_type": "markdown",
   "metadata": {},
   "source": [
    "# Apple Health Mobility Report\n",
    "\n",
    "Our goal is to build a report with the Apple Health data that can be used by Physical Therapists to assess the progress of their patients. To do this, we selected some exercise metrics that we believe have an impact in maintaining or improving the mobility of people affected by Multiple Sclerosis (MS) or stroke.\n",
    "\n",
    "1. Distance Cycling\n",
    "2. Double support time\n",
    "3. Exercise minutes\n",
    "4. Six minute walk\n",
    "5. Stair speed down\n",
    "6. Stair speed up\n",
    "7. Step length\n",
    "8. Walking and running distance\n",
    "9. Walking assymetry\n",
    "10. Walking speed\n",
    "11. Walking steadiness (last 4 weeks)\n",
    "\n",
    "These metrics are a part of [Apple's Healthkit](https://developer.apple.com/documentation/healthkit) and the user can access them in individual charts. There is no native option on the iPhone and looking at the metrics in separate charts makes it harder to find correlations or justify discrepancies in the data.\n",
    "\n",
    "This report aims to gather the above metrics in a way that can be analysed further and be more useful to understand the patient's progress. \n",
    "\n",
    "To do this we will use the full export of the Apple Health App and [convert it to a Pandas Dataframe using Milind Ganjoo's Apple Health Exporter code](https://github.com/mganjoo/apple-health-exporter).\n",
    "\n",
    "## Getting the user data to display\n",
    "\n",
    "1. Export Apple Health data from within the Health app.\n",
    "\n",
    "![click on \"user\" icon and then on \"export health data\"](images/exporting.png)"
   ]
  },
  {
   "cell_type": "code",
   "execution_count": 154,
   "metadata": {
    "scrolled": false
   },
   "outputs": [],
   "source": [
    "%%capture\n",
    "\n",
    "import os \n",
    "import sys \n",
    "\n",
    "!{sys.executable} -m pip install --upgrade pip\n",
    "!{sys.executable} -m pip install pandas pyarrow\n",
    "!{sys.executable} -m pip install matplotlib\n"
   ]
  },
  {
   "cell_type": "markdown",
   "metadata": {},
   "source": [
    "Proceeding with default values"
   ]
  },
  {
   "cell_type": "code",
   "execution_count": 155,
   "metadata": {},
   "outputs": [
    {
     "name": "stdout",
     "output_type": "stream",
     "text": [
      "Requirement already satisfied: apple-health-exporter in ./env/lib/python3.9/site-packages (1.0.2)\n",
      "Requirement already satisfied: pyarrow<8.0.0,>=7.0.0 in ./env/lib/python3.9/site-packages (from apple-health-exporter) (7.0.0)\n",
      "Requirement already satisfied: pandas<2.0.0,>=1.4.1 in ./env/lib/python3.9/site-packages (from apple-health-exporter) (1.4.1)\n",
      "Requirement already satisfied: lxml<5.0.0,>=4.8.0 in ./env/lib/python3.9/site-packages (from apple-health-exporter) (4.8.0)\n",
      "Requirement already satisfied: numpy>=1.18.5 in ./env/lib/python3.9/site-packages (from pandas<2.0.0,>=1.4.1->apple-health-exporter) (1.22.3)\n",
      "Requirement already satisfied: python-dateutil>=2.8.1 in ./env/lib/python3.9/site-packages (from pandas<2.0.0,>=1.4.1->apple-health-exporter) (2.8.2)\n",
      "Requirement already satisfied: pytz>=2020.1 in ./env/lib/python3.9/site-packages (from pandas<2.0.0,>=1.4.1->apple-health-exporter) (2022.1)\n",
      "Requirement already satisfied: six>=1.5 in ./env/lib/python3.9/site-packages (from python-dateutil>=2.8.1->pandas<2.0.0,>=1.4.1->apple-health-exporter) (1.16.0)\n"
     ]
    }
   ],
   "source": [
    "!{sys.executable} -m pip install apple-health-exporter\n",
    "\n",
    "from apple_health_exporter import health_xml_to_feather\n",
    "output_file='patient-data/data.feather'\n",
    "health_xml_to_feather(zip_file='patient-data/export.zip',output_file=output_file)\n",
    "\n",
    "import pandas as pd\n",
    "data = pd.read_feather(output_file)"
   ]
  },
  {
   "cell_type": "markdown",
   "metadata": {},
   "source": [
    "# Metrics and their respective data types\n",
    "\n",
    "1. **Distance Cycling** : HKQuantityTypeIdentifierDistanceCycling\n",
    "2. **Double support time** : HKQuantityTypeIdentifierWalkingDoubleSupportPercentage\n",
    "3. **Exercise minutes** : HKQuantityTypeIdentifierAppleExerciseTime\n",
    "4. **Six minute walk** : HKQuantityTypeIdentifierSixMinuteWalkTestDistance\n",
    "5. **Stair speed down** : HKQuantityTypeIdentifierStairDescentSpeed\n",
    "6. **Stair speed up** : HKQuantityTypeIdentifierStairAscentSpeed\n",
    "7. **Step length** : HKQuantityTypeIdentifierWalkingStepLength\n",
    "8. **Walking and running distance** : HKQuantityTypeIdentifierDistanceWalkingRunning\n",
    "9. **Walking assymetry** : HKQuantityTypeIdentifierWalkingAsymmetryPercentage \n",
    "10. **Walking speed** : HKQuantityTypeIdentifierWalkingSpeed \n",
    "11. **Walking steadiness** (last 4 weeks) : HKQuantityTypeIdentifierAppleWalkingSteadiness\n",
    "\n",
    "\n",
    "## Distance cycling\n",
    "\n",
    "This value is calculated using the iPhone's GPS every time the user registers a Cycling Workout.\n",
    "\n",
    "\n",
    "## Double support time \n",
    "\n",
    "> This is the percentage of time during a walk that both feet are on the ground. A lower value means you spend more of your walk with your weight on one foot instead of two, which can be a sign of better balance. During a typical walk this measure will fall between 20 and 40%.\n",
    ">\n",
    "> Walking requires strength and coordination. Changes in these can affect your balance and two-foot contact time.\n",
    ">\n",
    "> Double support time naturally varies with how fast vou walk and the terrain, but may increase with age.\n",
    ">\n",
    "> Double support time is recorded automatically on iPhone when you carry your phone near vour waist, such as in a trouser pocket, and walk steadily over flat ground.\n",
    "\n",
    "**Source:** Apple Health App on iOS 15.4\n",
    "\n",
    "## Exercise minutes\n",
    "\n",
    "> Every full minute of movement equal to or\n",
    "exceeding the intensity of a brisk walk for vou\n",
    "counts towards our dailv Exercise minutes.\n",
    "\n",
    "**Source:** Apple Health App on iOS 15.4\n",
    "\n",
    "## Six minute walk\n",
    "\n",
    "> This is an estimate of how far you can walk on\n",
    "flat ground in six minutes based on a week of\n",
    "vour motion and workout data. The fitter vou\n",
    "are, the higher this number will be.\n",
    ">\n",
    "> This prediction is considered a measure of your\n",
    "capacity for exercise. Longer distances are\n",
    "associated with healthier cardiac, respiratory,\n",
    "circulatory and neuromuscular function, and\n",
    "may reflect your ability to perform everyday\n",
    "activities. Improvements in fitness and mobility\n",
    "can increase our six-minute walk distance.\n",
    ">\n",
    "> The standard six-minute walk test measures\n",
    "the maximum number of metres you can walk\n",
    "on an unobstructed, flat course doing laps of a\n",
    "standard length. The test is often given to\n",
    "those who are recovering from a cardiac or\n",
    "respiratory condition. You can get a predicted\n",
    "six-minute walk distance up to 500 metres\n",
    "using data from a device, such as Apple Watch.\n",
    "\n",
    "**Source:** Apple Health App on iOS 15.4\n",
    "\n",
    "## Stair speed down\n",
    "\n",
    "> This is a measurement of how fast vou walk\n",
    "down the stairs.\n",
    ">\n",
    "> Descending stairs safely is an important\n",
    "indicator of our overall mobility.\n",
    "> Descending stairs requires strength and\n",
    "coordination. Changes in these factors, or pain,\n",
    "can affect your speed.\n",
    "> Apple Watch records your vertical speed when\n",
    "you go down a flight that is at least 3 metres\n",
    "(10 feet).\n",
    "\n",
    "**Source:** Apple Health App on iOS 15.4\n",
    "\n",
    "\n",
    "## Stair speed up \n",
    "\n",
    ">This is a measurement of how fast vou walk up\n",
    "the stairs.\n",
    ">\n",
    "> Climbing stairs quickly can be a sign of strong\n",
    "cardiovascular and musculoskeletal health.\n",
    ">\n",
    "> Walking up stairs requires strength,\n",
    "coordination and aerobic fitness. Changes in\n",
    "these factors, or pain, can affect your speed.\n",
    "Apple Watch records your vertical speed when\n",
    "you go up a flight that is at least 3 metres (10\n",
    "feet).\n",
    "\n",
    "**Source:** Apple Health App on iOS 15.4\n",
    "\n",
    "## Step lenght \n",
    "\n",
    "## Walking and running distance\n",
    "\n",
    "## Walking assymetry\n",
    "\n",
    "> In a healthy walking pattern, the timing of the steps you take with each foot are very similar. Walking asymmetry is the per cent of time your steps with one foot are faster or slower than the other foot. This means the lower the percentage of asymmetry, the healthier your walking pattern.\n",
    ">\n",
    "> Uneven walking patterns, such as limping, can\n",
    "be a sign of disease, injury or other health\n",
    "issues. An even or symmetrical walk is often an\n",
    "important physical theraov goal when\n",
    "recovering from injury.\n",
    "> \n",
    "> Your iPhone can record walking asymmetry\n",
    "automaticallv when vou carrv vour phone near\n",
    "your waist - such as in a pocket - and walk\n",
    "steadilv on flat ground.\n",
    "\n",
    "**Source:** Apple Health App on iOS 15.4\n",
    "\n",
    "\n",
    "\n",
    "## Walking speed\n",
    "\n",
    "\n",
    "\n",
    "## Walking steadiness\n",
    "\n",
    "> This is an estimate of your stability while\n",
    "walking. iPhone calculates Walking Steadiness\n",
    "using your walking speed, step length, double\n",
    "support time and walking asymmetry data\n",
    "that's stored in Health. This provides a sense of\n",
    "the way you walk.\n",
    ">\n",
    "> Your steadiness is also related to your fall risk.\n",
    "As steadiness goes down, your risk of falling\n",
    "goes up. Walking Steadiness is not an\n",
    "indication of how likelv vou are to fall in anv\n",
    "given moment, but an overall sense of fall risk\n",
    "in the next 12 months.\n",
    "> \n",
    "> iPhone can automatically record your Walking\n",
    "Steadiness in Health when you carry your\n",
    "iPhone in a pocket or holder near our waist.\n",
    "You can also receive a notification if vour\n",
    "Walking Steadiness is low or very low. You can\n",
    "manage these notifications in Health Checklist.\n",
    "\n",
    "**Source:** Apple Health App on iOS 15.4\n",
    "\n",
    "\n"
   ]
  },
  {
   "cell_type": "markdown",
   "metadata": {},
   "source": [
    "First we need to know what sort of data we are working with. The command will show what columns we have in the DataFrame and their data type (dtype)."
   ]
  },
  {
   "cell_type": "code",
   "execution_count": 156,
   "metadata": {},
   "outputs": [
    {
     "data": {
      "text/plain": [
       "type                                        object\n",
       "sourceName                                  object\n",
       "unit                                        object\n",
       "startDate     datetime64[ns, pytz.FixedOffset(60)]\n",
       "endDate       datetime64[ns, pytz.FixedOffset(60)]\n",
       "value                                      float64\n",
       "dtype: object"
      ]
     },
     "execution_count": 156,
     "metadata": {},
     "output_type": "execute_result"
    }
   ],
   "source": [
    "data.dtypes"
   ]
  },
  {
   "cell_type": "markdown",
   "metadata": {},
   "source": [
    "The `type` column identifies the sort of data that we have available, as listed before in [Metrics and their respective data types](#Metrics-and-their-respective-data-types)."
   ]
  },
  {
   "cell_type": "code",
   "execution_count": 157,
   "metadata": {},
   "outputs": [
    {
     "data": {
      "text/plain": [
       "type\n",
       "HKDataTypeSleepDurationGoal                                    1\n",
       "HKQuantityTypeIdentifierActiveEnergyBurned                715914\n",
       "HKQuantityTypeIdentifierAppleExerciseTime                  21536\n",
       "HKQuantityTypeIdentifierAppleStandTime                     20921\n",
       "HKQuantityTypeIdentifierAppleWalkingSteadiness                27\n",
       "HKQuantityTypeIdentifierBasalEnergyBurned                 215522\n",
       "HKQuantityTypeIdentifierBloodAlcoholContent                   11\n",
       "HKQuantityTypeIdentifierBodyFatPercentage                   2505\n",
       "HKQuantityTypeIdentifierBodyMass                            2512\n",
       "HKQuantityTypeIdentifierBodyMassIndex                       3358\n",
       "HKQuantityTypeIdentifierBodyTemperature                        1\n",
       "HKQuantityTypeIdentifierDietaryCaffeine                       89\n",
       "HKQuantityTypeIdentifierDietaryCarbohydrates                 161\n",
       "HKQuantityTypeIdentifierDietaryEnergyConsumed                163\n",
       "HKQuantityTypeIdentifierDietaryFatTotal                      130\n",
       "HKQuantityTypeIdentifierDietaryProtein                       156\n",
       "HKQuantityTypeIdentifierDietarySugar                          82\n",
       "HKQuantityTypeIdentifierDietaryWater                         445\n",
       "HKQuantityTypeIdentifierDistanceCycling                    95022\n",
       "HKQuantityTypeIdentifierDistanceWalkingRunning            146517\n",
       "HKQuantityTypeIdentifierEnvironmentalAudioExposure         27318\n",
       "HKQuantityTypeIdentifierFlightsClimbed                     18932\n",
       "HKQuantityTypeIdentifierHeadphoneAudioExposure              6097\n",
       "HKQuantityTypeIdentifierHeartRate                         227528\n",
       "HKQuantityTypeIdentifierHeartRateVariabilitySDNN            4100\n",
       "HKQuantityTypeIdentifierHeight                                 1\n",
       "HKQuantityTypeIdentifierLeanBodyMass                         305\n",
       "HKQuantityTypeIdentifierRespiratoryRate                     4563\n",
       "HKQuantityTypeIdentifierRestingHeartRate                     695\n",
       "HKQuantityTypeIdentifierSixMinuteWalkTestDistance             65\n",
       "HKQuantityTypeIdentifierStairAscentSpeed                     523\n",
       "HKQuantityTypeIdentifierStairDescentSpeed                    572\n",
       "HKQuantityTypeIdentifierStepCount                         138009\n",
       "HKQuantityTypeIdentifierVO2Max                                89\n",
       "HKQuantityTypeIdentifierWalkingAsymmetryPercentage          2089\n",
       "HKQuantityTypeIdentifierWalkingDoubleSupportPercentage      4091\n",
       "HKQuantityTypeIdentifierWalkingHeartRateAverage              652\n",
       "HKQuantityTypeIdentifierWalkingSpeed                        5270\n",
       "HKQuantityTypeIdentifierWalkingStepLength                   5277\n",
       "dtype: int64"
      ]
     },
     "execution_count": 157,
     "metadata": {},
     "output_type": "execute_result"
    }
   ],
   "source": [
    "data.groupby(\"type\").size()"
   ]
  },
  {
   "cell_type": "markdown",
   "metadata": {},
   "source": [
    "The `sourceName` column contains the name of the App or device that collected the information. We can get the listing of the devices by calling the `unique()` function."
   ]
  },
  {
   "cell_type": "code",
   "execution_count": 158,
   "metadata": {},
   "outputs": [
    {
     "data": {
      "text/plain": [
       "array(['Water Reminder', 'Sync Solver', 'Power Sync', 'Asana Rebel',\n",
       "       'Health', 'Shortcuts', 'Sonic Screwdriver', 'Chronograph',\n",
       "       'Sleep Cycle', 'Bruno’s Apple\\xa0Watch', 'SonicScrewdriver',\n",
       "       'Nike Training', 'Today', 'Sleep'], dtype=object)"
      ]
     },
     "execution_count": 158,
     "metadata": {},
     "output_type": "execute_result"
    }
   ],
   "source": [
    "data['sourceName'].unique()"
   ]
  },
  {
   "cell_type": "markdown",
   "metadata": {},
   "source": [
    "As a first exercise, we want to get the walking distance for the last 30 days and plot that chart to see if it matches with the user's data on the iPhone. We are calculating per week and using sunday as the start of the week to keep aligned with how the HealthKit shows its charts.\n",
    "\n",
    "The dataframe contains a column called `sourceName` that indicates where the user entered their data. In our case, the user has an Apple Watch and and iPhone. The `sourceName` value can be either \"SonicScrewdriver\", the iPhone, or \"Chronograph\", the Apple Watch.\n",
    "\n",
    "We want to use the Apple Watch to get the walking distance. Since the user doesn't always carry the iPhone, the pedometer of the Apple Watch is more reliable than the movement chip in the iPhone. \n",
    "\n",
    "In this case, the Apple Watch was named `Chronograph` by the user."
   ]
  },
  {
   "cell_type": "code",
   "execution_count": 159,
   "metadata": {},
   "outputs": [
    {
     "data": {
      "text/html": [
       "<div>\n",
       "<style scoped>\n",
       "    .dataframe tbody tr th:only-of-type {\n",
       "        vertical-align: middle;\n",
       "    }\n",
       "\n",
       "    .dataframe tbody tr th {\n",
       "        vertical-align: top;\n",
       "    }\n",
       "\n",
       "    .dataframe thead th {\n",
       "        text-align: right;\n",
       "    }\n",
       "</style>\n",
       "<table border=\"1\" class=\"dataframe\">\n",
       "  <thead>\n",
       "    <tr style=\"text-align: right;\">\n",
       "      <th></th>\n",
       "      <th>value</th>\n",
       "    </tr>\n",
       "    <tr>\n",
       "      <th>startDate</th>\n",
       "      <th></th>\n",
       "    </tr>\n",
       "  </thead>\n",
       "  <tbody>\n",
       "    <tr>\n",
       "      <th>2020-09-22 00:00:00+01:00</th>\n",
       "      <td>0.983081</td>\n",
       "    </tr>\n",
       "    <tr>\n",
       "      <th>2020-09-23 00:00:00+01:00</th>\n",
       "      <td>2.476899</td>\n",
       "    </tr>\n",
       "    <tr>\n",
       "      <th>2020-09-24 00:00:00+01:00</th>\n",
       "      <td>2.774861</td>\n",
       "    </tr>\n",
       "    <tr>\n",
       "      <th>2020-09-25 00:00:00+01:00</th>\n",
       "      <td>2.037014</td>\n",
       "    </tr>\n",
       "    <tr>\n",
       "      <th>2020-09-26 00:00:00+01:00</th>\n",
       "      <td>6.501673</td>\n",
       "    </tr>\n",
       "    <tr>\n",
       "      <th>...</th>\n",
       "      <td>...</td>\n",
       "    </tr>\n",
       "    <tr>\n",
       "      <th>2022-03-29 00:00:00+01:00</th>\n",
       "      <td>1.751222</td>\n",
       "    </tr>\n",
       "    <tr>\n",
       "      <th>2022-03-30 00:00:00+01:00</th>\n",
       "      <td>3.093462</td>\n",
       "    </tr>\n",
       "    <tr>\n",
       "      <th>2022-03-31 00:00:00+01:00</th>\n",
       "      <td>2.847665</td>\n",
       "    </tr>\n",
       "    <tr>\n",
       "      <th>2022-04-01 00:00:00+01:00</th>\n",
       "      <td>2.642034</td>\n",
       "    </tr>\n",
       "    <tr>\n",
       "      <th>2022-04-02 00:00:00+01:00</th>\n",
       "      <td>2.512661</td>\n",
       "    </tr>\n",
       "  </tbody>\n",
       "</table>\n",
       "<p>558 rows × 1 columns</p>\n",
       "</div>"
      ],
      "text/plain": [
       "                              value\n",
       "startDate                          \n",
       "2020-09-22 00:00:00+01:00  0.983081\n",
       "2020-09-23 00:00:00+01:00  2.476899\n",
       "2020-09-24 00:00:00+01:00  2.774861\n",
       "2020-09-25 00:00:00+01:00  2.037014\n",
       "2020-09-26 00:00:00+01:00  6.501673\n",
       "...                             ...\n",
       "2022-03-29 00:00:00+01:00  1.751222\n",
       "2022-03-30 00:00:00+01:00  3.093462\n",
       "2022-03-31 00:00:00+01:00  2.847665\n",
       "2022-04-01 00:00:00+01:00  2.642034\n",
       "2022-04-02 00:00:00+01:00  2.512661\n",
       "\n",
       "[558 rows x 1 columns]"
      ]
     },
     "execution_count": 159,
     "metadata": {},
     "output_type": "execute_result"
    }
   ],
   "source": [
    "apple_watch_name = 'Chronograph'\n",
    "walking_distance = data.loc[data['type'] == 'HKQuantityTypeIdentifierDistanceWalkingRunning'][['startDate','endDate','sourceName','unit','value']]\n",
    "walking_distance = walking_distance.loc[walking_distance['sourceName']==apple_watch_name]\n",
    "walking_distance_day=walking_distance.groupby(pd.Grouper(key='startDate', freq='D')).sum()\n",
    "walking_distance_day"
   ]
  },
  {
   "cell_type": "markdown",
   "metadata": {},
   "source": [
    "We tested the values by looking at them side by side with the charts in the iOS app and they match, apart from the fact that the numbers shown to the user are rounded down.\n",
    "\n",
    "![](./images/2022-04-03_00.51.09.jpg)"
   ]
  },
  {
   "cell_type": "markdown",
   "metadata": {},
   "source": [
    "We now want to get the last 30 days of walking distance plotted in a chart."
   ]
  },
  {
   "cell_type": "code",
   "execution_count": 160,
   "metadata": {},
   "outputs": [
    {
     "data": {
      "text/plain": [
       "<AxesSubplot:xlabel='startDate'>"
      ]
     },
     "execution_count": 160,
     "metadata": {},
     "output_type": "execute_result"
    },
    {
     "data": {
      "image/png": "[encoded data removed]",
      "text/plain": [
       "<Figure size 432x288 with 1 Axes>"
      ]
     },
     "metadata": {
      "needs_background": "light"
     },
     "output_type": "display_data"
    }
   ],
   "source": [
    "import matplotlib.pyplot as plt\n",
    "\n",
    "walking_distance_day.last('30D').plot()"
   ]
  },
  {
   "cell_type": "code",
   "execution_count": 161,
   "metadata": {},
   "outputs": [
    {
     "data": {
      "image/png": "[encoded data removed]",
      "text/plain": [
       "<Figure size 432x288 with 1 Axes>"
      ]
     },
     "metadata": {
      "needs_background": "light"
     },
     "output_type": "display_data"
    }
   ],
   "source": [
    "walking_distance_day.last('30D').plot(ylabel='Km',xlabel='Last 30 Days',label='Distance')\n",
    "L=plt.legend()\n",
    "L.get_texts()[0].set_text('Distance')"
   ]
  },
  {
   "cell_type": "markdown",
   "metadata": {},
   "source": [
    "We need to improve the chart to make it readable:\n",
    "1. Change the label for the X axis\n",
    "2. Add value label to the Y axis (km)\n",
    "3. Change legend of the chart from \"value\" to \"Distance\""
   ]
  },
  {
   "cell_type": "markdown",
   "metadata": {},
   "source": [
    "# Joining related data to assess mobility\n",
    "\n",
    "https://www.apple.com/ca/healthcare/docs/site/Measuring_Walking_Quality_Through_iPhone_Mobility_Metrics.pdf\n",
    "\n",
    "## Hypothesis 1, the total distance walked in a day impacts the walking assimetry\n",
    "\n"
   ]
  },
  {
   "cell_type": "markdown",
   "metadata": {},
   "source": [
    "Let's use the same principles to get the data for walking asymmetry.\n",
    "We will try to follow these steps\n",
    "1. Get walking asymmetry\n",
    "2. Plot the last 30 days\n",
    "3. Merge Walking distance + Walking asymmetry"
   ]
  },
  {
   "cell_type": "code",
   "execution_count": 162,
   "metadata": {},
   "outputs": [
    {
     "data": {
      "text/plain": [
       "array(['Sonic Screwdriver', 'SonicScrewdriver'], dtype=object)"
      ]
     },
     "execution_count": 162,
     "metadata": {},
     "output_type": "execute_result"
    }
   ],
   "source": [
    "\n",
    "walking_asymmetry = data.loc[data['type'] == 'HKQuantityTypeIdentifierWalkingAsymmetryPercentage']\n",
    "walking_asymmetry_day=walking_asymmetry.groupby(pd.Grouper(key='startDate', freq='D')).median()\n",
    "walking_asymmetry['sourceName'].unique()"
   ]
  },
  {
   "cell_type": "markdown",
   "metadata": {},
   "source": [
    "In this case, `sourceName` only contains values from the iPhone and we don't need to filter that data."
   ]
  },
  {
   "cell_type": "code",
   "execution_count": 163,
   "metadata": {},
   "outputs": [
    {
     "data": {
      "image/png": "[encoded data removed]",
      "text/plain": [
       "<Figure size 432x288 with 1 Axes>"
      ]
     },
     "metadata": {
      "needs_background": "light"
     },
     "output_type": "display_data"
    }
   ],
   "source": [
    "walking_asymmetry_day.last('30D').plot()\n",
    "L=plt.legend()\n",
    "L.get_texts()[0].set_text('Walking asymmetry')"
   ]
  },
  {
   "cell_type": "code",
   "execution_count": 164,
   "metadata": {},
   "outputs": [],
   "source": [
    "walking_distance_day.rename(columns={'value':'Km'},inplace=True)\n",
    "walking_asymmetry_day.rename(columns={'value':'Walking asymmetry %'}, inplace=True)\n"
   ]
  },
  {
   "cell_type": "code",
   "execution_count": 166,
   "metadata": {},
   "outputs": [
    {
     "data": {
      "text/plain": [
       "<AxesSubplot:xlabel='Day', ylabel='%'>"
      ]
     },
     "execution_count": 166,
     "metadata": {},
     "output_type": "execute_result"
    },
    {
     "data": {
      "image/png": "[encoded data removed]",
      "text/plain": [
       "<Figure size 432x288 with 2 Axes>"
      ]
     },
     "metadata": {
      "needs_background": "light"
     },
     "output_type": "display_data"
    }
   ],
   "source": [
    "ax=walking_asymmetry_day.last('30D').plot(secondary_y=True)\n",
    "walking_distance_day.last('30D').plot(ax=ax,ylabel='%',xlabel='Day')"
   ]
  },
  {
   "cell_type": "markdown",
   "metadata": {},
   "source": [
    "## Hypothesis 2, exercise minutes reduce walking assymetry the next day\n",
    "\n",
    "## Hypothesis 3, distance cycled decreases walking assymetry \n",
    "\n",
    "## Hypothesis 4, too much exercise minutes increase walking assymetry\n"
   ]
  },
  {
   "cell_type": "markdown",
   "metadata": {},
   "source": [
    "# LOST+FOUND\n",
    "\n",
    "how to export to excel\n",
    "\n",
    "```python\n",
    "## ARTICLES\n",
    "articles_json = pd.read_json('data/articles.json')\n",
    "articles_json.link = articles_json.link.apply(html.unescape)\n",
    "articles_json.summary = articles_json.summary.apply(html.unescape)\n",
    "articles_json.to_excel('content/developers/articles_'+ datetime_string + '.xlsx')\n",
    "```"
   ]
  },
  {
   "cell_type": "code",
   "execution_count": null,
   "metadata": {},
   "outputs": [],
   "source": []
  }
 ],
 "metadata": {
  "celltoolbar": "Edit Metadata",
  "interpreter": {
   "hash": "0277b96b14c425842615228913045a7658c691e0d3917c6c6b1fa9e121a8c5d3"
  },
  "kernelspec": {
   "display_name": "Python 3 (ipykernel)",
   "language": "python",
   "name": "python3"
  },
  "language_info": {
   "codemirror_mode": {
    "name": "ipython",
    "version": 3
   },
   "file_extension": ".py",
   "mimetype": "text/x-python",
   "name": "python",
   "nbconvert_exporter": "python",
   "pygments_lexer": "ipython3",
   "version": "3.9.12"
  }
 },
 "nbformat": 4,
 "nbformat_minor": 2
}
